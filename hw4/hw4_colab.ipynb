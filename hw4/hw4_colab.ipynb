{
 "cells": [
  {
   "cell_type": "code",
   "execution_count": 19,
   "metadata": {},
   "outputs": [],
   "source": [
    "import torch\n",
    "import argparse\n",
    "import seaborn as sns\n",
    "import numpy as np\n",
    "import matplotlib.pyplot as plt\n",
    "import homework\n",
    "from homework import dense_transforms\n",
    "from homework import utils\n",
    "import homework.train\n",
    "from homework import models\n",
    "from importlib import reload\n",
    "reload(homework), reload(models), reload(homework.train), reload(homework.utils);"
   ]
  },
  {
   "cell_type": "code",
   "execution_count": 20,
   "metadata": {},
   "outputs": [],
   "source": [
    "from collections import namedtuple\n",
    "args = namedtuple('args', 'log_dir other_args')\n",
    "args.log_dir = 'log'\n",
    "args.learning_rate = 0.001\n",
    "args.num_epoch = 20\n",
    "args.gamma = 0\n",
    "args.continue_training = False\n",
    "lo, la = homework.train.train(args)"
   ]
  },
  {
   "cell_type": "code",
   "execution_count": 23,
   "metadata": {},
   "outputs": [],
   "source": [
    "gamma = 0\n",
    "DENSE_CLASS_DISTRIBUTION = [0.77357634, 0.11783845, 0.10858521]\n",
    "#w = torch.as_tensor(DENSE_CLASS_DISTRIBUTION)**(-gamma)\n",
    "loss = torch.nn.BCEWithLogitsLoss()#weight=w / w.mean())"
   ]
  },
  {
   "cell_type": "code",
   "execution_count": 32,
   "metadata": {},
   "outputs": [
    {
     "data": {
      "text/plain": [
       "tensor(-1.8731)"
      ]
     },
     "execution_count": 32,
     "metadata": {},
     "output_type": "execute_result"
    }
   ],
   "source": [
    "loss(torch.ones(100)*2, torch.ones(100)*2)"
   ]
  },
  {
   "cell_type": "code",
   "execution_count": 631,
   "metadata": {},
   "outputs": [
    {
     "data": {
      "text/plain": [
       "torch.Size([96, 128, 3])"
      ]
     },
     "execution_count": 631,
     "metadata": {},
     "output_type": "execute_result"
    }
   ],
   "source": [
    "la.permute((0,2,3,1))[0].shape"
   ]
  },
  {
   "cell_type": "code",
   "execution_count": 637,
   "metadata": {},
   "outputs": [
    {
     "data": {
      "text/plain": [
       "torch.Size([96, 128, 3])"
      ]
     },
     "execution_count": 637,
     "metadata": {},
     "output_type": "execute_result"
    }
   ],
   "source": [
    "la.permute((0,2,3,1))[0].shape"
   ]
  },
  {
   "cell_type": "code",
   "execution_count": 657,
   "metadata": {},
   "outputs": [
    {
     "data": {
      "text/plain": [
       "tensor(0.)"
      ]
     },
     "execution_count": 657,
     "metadata": {},
     "output_type": "execute_result"
    }
   ],
   "source": [
    "loss(torch.zeros(1), torch.zeros(1))#la.permute((0,2,3,1))[0])"
   ]
  },
  {
   "cell_type": "code",
   "execution_count": null,
   "metadata": {},
   "outputs": [],
   "source": [
    "loss"
   ]
  },
  {
   "cell_type": "code",
   "execution_count": 502,
   "metadata": {},
   "outputs": [
    {
     "name": "stdout",
     "output_type": "stream",
     "text": [
      "Loading assignment\n",
      "Loading grader\n",
      " * extract_peak                                      \n",
      "  - return value                                       [ passed ]\n",
      "  - peak extraction                                    [ passed ]\n",
      "  - radius=1                                           [ passed ]\n",
      "  - randomized test                                    [ passed ]\n",
      " --------------------------------------------------    [  20 /  20 ]\n",
      "\n",
      " * Detector                                          \n",
      "  - return value                                       [ passed ]\n",
      " --------------------------------------------------    [   5 /   5 ]\n",
      "\n",
      "  - Function not implemented: Detector.detect_with_size\n",
      " --------------------------------------------------    [   0 /   9 ]\n",
      "\n",
      " * Detection model                                   \n",
      "  - Average precision (inside box c=0)                 [ AP = 0.129 ]\n",
      "  - Average precision (inside box c=1)                 [ AP = 0.064 ]\n",
      "  - Average precision (inside box c=2)                 [ Crash \"division by zero\" ]\n",
      "  - Average precision (distance c=0)                   [ AP = 0.025 ]\n",
      "  - Average precision (distance c=1)                   [ AP = 0.055 ]\n",
      "  - Average precision (distance c=2)                   [ Crash \"division by zero\" ]\n",
      " --------------------------------------------------    [   0 /  75 ]\n",
      "\n",
      "\n",
      "total score                                               25 / 109\n"
     ]
    }
   ],
   "source": [
    "!python -m grader homework -v"
   ]
  },
  {
   "cell_type": "code",
   "execution_count": 499,
   "metadata": {},
   "outputs": [
    {
     "name": "stdout",
     "output_type": "stream",
     "text": [
      "############ shape: torch.Size([50, 50])\n",
      "7 -5 100\n",
      "tensor(1.)\n",
      "tensor(2499)\n",
      "[(1.0, 0, 0), (1.0, 0, 0), (1.0, 0, 0), (1.0, 0, 0), (1.0, 0, 1), (1.0, 0, 2), (1.0, 0, 3), (1.0, 0, 4), (1.0, 0, 5), (1.0, 0, 6), (1.0, 0, 7), (1.0, 0, 8), (1.0, 0, 9), (1.0, 0, 10), (1.0, 0, 11), (1.0, 0, 12), (1.0, 0, 13), (1.0, 0, 14), (1.0, 0, 15), (1.0, 0, 16)]\n",
      "############ shape: torch.Size([50, 50])\n",
      "7 -5 100\n",
      "tensor(1.)\n",
      "tensor(2499)\n",
      "[(1.0, 0, 0), (1.0, 0, 0), (1.0, 0, 0), (1.0, 0, 0), (1.0, 0, 1), (1.0, 0, 2), (1.0, 0, 3), (1.0, 0, 4), (1.0, 0, 5), (1.0, 0, 6), (1.0, 0, 7), (1.0, 0, 8), (1.0, 0, 9), (1.0, 0, 10), (1.0, 0, 11), (1.0, 0, 12), (1.0, 0, 13), (1.0, 0, 14), (1.0, 0, 15), (1.0, 0, 16)]\n",
      "############ shape: torch.Size([50, 50])\n",
      "7 -5 100\n",
      "tensor(1.)\n",
      "tensor(2499)\n",
      "[(1.0, 0, 0), (1.0, 0, 0), (1.0, 0, 0), (1.0, 0, 0), (1.0, 0, 1), (1.0, 0, 2), (1.0, 0, 3), (1.0, 0, 4), (1.0, 0, 5), (1.0, 0, 6), (1.0, 0, 7), (1.0, 0, 8), (1.0, 0, 9), (1.0, 0, 10), (1.0, 0, 11), (1.0, 0, 12), (1.0, 0, 13), (1.0, 0, 14), (1.0, 0, 15), (1.0, 0, 16)]\n"
     ]
    }
   ],
   "source": [
    "detections = []\n",
    "for i in range(3):\n",
    "    heatmap = image[i]\n",
    "    peaks = extract_peak(heatmap)\n",
    "    [detections.append((i, *p)) for p in peaks]"
   ]
  }
 ],
 "metadata": {
  "accelerator": "GPU",
  "colab": {
   "name": "dl_hw4.ipynb",
   "provenance": [],
   "version": "0.3.2"
  },
  "kernelspec": {
   "display_name": "Python 3",
   "language": "python",
   "name": "python3"
  },
  "language_info": {
   "codemirror_mode": {
    "name": "ipython",
    "version": 3
   },
   "file_extension": ".py",
   "mimetype": "text/x-python",
   "name": "python",
   "nbconvert_exporter": "python",
   "pygments_lexer": "ipython3",
   "version": "3.5.6"
  }
 },
 "nbformat": 4,
 "nbformat_minor": 1
}
