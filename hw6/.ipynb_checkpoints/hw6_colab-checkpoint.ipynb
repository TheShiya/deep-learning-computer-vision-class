{
 "cells": [
  {
   "cell_type": "markdown",
   "metadata": {
    "colab_type": "text",
    "id": "m4BLuYTa8iCd"
   },
   "source": [
    "This notebook helps you train your planner for homework 6. `pystk` does not install normally on colab. You need to collect your drive data locally then upload to colab. Your working directory should have: `drive_data` and `homework`. You should also remove all `import pystk` or create an empty pystk on colab:"
   ]
  },
  {
   "cell_type": "code",
   "execution_count": 0,
   "metadata": {
    "colab": {},
    "colab_type": "code",
    "id": "nFi1OsoP1mrp"
   },
   "outputs": [],
   "source": [
    "!mkdir pystk\n",
    "!touch pystk/__init__.py"
   ]
  },
  {
   "cell_type": "markdown",
   "metadata": {
    "colab_type": "text",
    "id": "ATa9kc4r-HOO"
   },
   "source": [
    "Next, load Tensorboard:"
   ]
  },
  {
   "cell_type": "code",
   "execution_count": 0,
   "metadata": {
    "colab": {},
    "colab_type": "code",
    "id": "ZzGVCW7A0t-m"
   },
   "outputs": [],
   "source": [
    "%load_ext tensorboard"
   ]
  },
  {
   "cell_type": "code",
   "execution_count": 0,
   "metadata": {
    "colab": {},
    "colab_type": "code",
    "id": "jWapyPoC0dUA"
   },
   "outputs": [],
   "source": [
    "%tensorboard --logdir log"
   ]
  },
  {
   "cell_type": "markdown",
   "metadata": {
    "colab_type": "text",
    "id": "d6ioAaHi-M_P"
   },
   "source": [
    "Then train:"
   ]
  },
  {
   "cell_type": "code",
   "execution_count": 0,
   "metadata": {
    "colab": {},
    "colab_type": "code",
    "id": "GkjIWcVB0wYv"
   },
   "outputs": [],
   "source": [
    "import homework.train"
   ]
  },
  {
   "cell_type": "code",
   "execution_count": 0,
   "metadata": {
    "colab": {},
    "colab_type": "code",
    "id": "rr4vN9WZ0y5I"
   },
   "outputs": [],
   "source": [
    "from collections import namedtuple\n",
    "args = namedtuple('args', 'log_dir other_args')\n",
    "args.log_dir = 'log'\n",
    "args.other_args = 'something'"
   ]
  },
  {
   "cell_type": "code",
   "execution_count": 0,
   "metadata": {
    "colab": {},
    "colab_type": "code",
    "id": "C7xZEfI-03T7"
   },
   "outputs": [],
   "source": [
    "homework.train.train(args)"
   ]
  },
  {
   "cell_type": "markdown",
   "metadata": {
    "colab_type": "text",
    "id": "AI0CWs16-SCi"
   },
   "source": [
    "Download your trained planner:"
   ]
  },
  {
   "cell_type": "code",
   "execution_count": 0,
   "metadata": {
    "colab": {},
    "colab_type": "code",
    "id": "COmBsB-J03Y2"
   },
   "outputs": [],
   "source": [
    "from google.colab import files\n",
    "files.download('homework/planner.th')"
   ]
  },
  {
   "cell_type": "code",
   "execution_count": 2,
   "metadata": {},
   "outputs": [],
   "source": [
    "from homework.utils import PyTux"
   ]
  },
  {
   "cell_type": "code",
   "execution_count": 3,
   "metadata": {},
   "outputs": [],
   "source": [
    "pytux = PyTux()"
   ]
  },
  {
   "cell_type": "code",
   "execution_count": 6,
   "metadata": {},
   "outputs": [],
   "source": [
    "args = {\n",
    "    'steer_factor' : .9,\n",
    "    'drift_x_threshold' : 3,\n",
    "    'brake_veldiff_threshold' : 10,\n",
    "    'driff_acceleration': 0.2,\n",
    "}"
   ]
  },
  {
   "cell_type": "code",
   "execution_count": 10,
   "metadata": {},
   "outputs": [],
   "source": [
    "def run():\n",
    "\n",
    "    import pystk\n",
    "\n",
    "    target_velocity = 22\n",
    "\n",
    "    def control(aim_point, current_vel):\n",
    "        action = pystk.Action()\n",
    "\n",
    "        \"\"\"\n",
    "        Your code here\n",
    "        Hint: Use action.acceleration (0..1) to change the velocity. Try targeting a target_velocity (e.g. 20).\n",
    "        Hint: Use action.brake to True/False to brake (optionally)\n",
    "        Hint: Use action.steer to turn the kart towards the aim_point, clip the steer angle to -1..1\n",
    "        Hint: You may want to use action.drift=True for wide turns (it will turn faster)\n",
    "        \"\"\" \n",
    "        #print(aim_point)\n",
    "\n",
    "        steer_factor = args['steer_factor']\n",
    "        drift_x_threshold = args['drift_x_threshold']\n",
    "        brake_veldiff_threshold = args['brake_veldiff_threshold']\n",
    "        driff_acceleration = args['driff_acceleration']\n",
    "        x, y, z = aim_point\n",
    "\n",
    "        if current_vel < target_velocity and abs(x) < drift_x_threshold:\n",
    "            action.acceleration = 1\n",
    "        elif abs(x) >= drift_x_threshold:\n",
    "            if current_vel > target_velocity - brake_veldiff_threshold\t:\n",
    "                action.brake\n",
    "            action.drift = True\n",
    "            action.acceleration = driff_acceleration\n",
    "\n",
    "        action.steer = max(min(steer_factor * x, 1), -1)\n",
    "\n",
    "        return action\n",
    "\n",
    "    '''\n",
    "    python -m homework.controller zengarden lighthouse hacienda snowtuxpeak cornfield_crossing scotland\n",
    "    '''\n",
    "\n",
    "    s = []\n",
    "\n",
    "    def test_controller(tracks):\n",
    "        import numpy as np\n",
    "        for t in tracks:\n",
    "            steps = pytux.rollout(t, control, max_frames=1000, verbose=False)\n",
    "            s.append((steps, args))\n",
    "        pytux.close()\n",
    "\n",
    "    test_controller(['zengarden', \n",
    "                     'lighthouse',\n",
    "                     'hacienda',\n",
    "                     'snowtuxpeak',\n",
    "                     'cornfield_crossing',\n",
    "                     'scotland'])"
   ]
  },
  {
   "cell_type": "code",
   "execution_count": 11,
   "metadata": {},
   "outputs": [
    {
     "ename": "AssertionError",
     "evalue": "Cannot create more than one pytux object",
     "output_type": "error",
     "traceback": [
      "\u001b[1;31m---------------------------------------------------------------------------\u001b[0m",
      "\u001b[1;31mAssertionError\u001b[0m                            Traceback (most recent call last)",
      "\u001b[1;32m<ipython-input-11-ec9775ede022>\u001b[0m in \u001b[0;36m<module>\u001b[1;34m\u001b[0m\n\u001b[1;32m----> 1\u001b[1;33m \u001b[0mrun\u001b[0m\u001b[1;33m(\u001b[0m\u001b[1;33m)\u001b[0m\u001b[1;33m\u001b[0m\u001b[1;33m\u001b[0m\u001b[0m\n\u001b[0m",
      "\u001b[1;32m<ipython-input-10-242148fb03d2>\u001b[0m in \u001b[0;36mrun\u001b[1;34m()\u001b[0m\n\u001b[0;32m     54\u001b[0m                      \u001b[1;34m'snowtuxpeak'\u001b[0m\u001b[1;33m,\u001b[0m\u001b[1;33m\u001b[0m\u001b[1;33m\u001b[0m\u001b[0m\n\u001b[0;32m     55\u001b[0m                      \u001b[1;34m'cornfield_crossing'\u001b[0m\u001b[1;33m,\u001b[0m\u001b[1;33m\u001b[0m\u001b[1;33m\u001b[0m\u001b[0m\n\u001b[1;32m---> 56\u001b[1;33m                      'scotland'])\n\u001b[0m",
      "\u001b[1;32m<ipython-input-10-242148fb03d2>\u001b[0m in \u001b[0;36mtest_controller\u001b[1;34m(tracks)\u001b[0m\n\u001b[0;32m     43\u001b[0m     \u001b[1;32mdef\u001b[0m \u001b[0mtest_controller\u001b[0m\u001b[1;33m(\u001b[0m\u001b[0mtracks\u001b[0m\u001b[1;33m)\u001b[0m\u001b[1;33m:\u001b[0m\u001b[1;33m\u001b[0m\u001b[1;33m\u001b[0m\u001b[0m\n\u001b[0;32m     44\u001b[0m         \u001b[1;32mimport\u001b[0m \u001b[0mnumpy\u001b[0m \u001b[1;32mas\u001b[0m \u001b[0mnp\u001b[0m\u001b[1;33m\u001b[0m\u001b[1;33m\u001b[0m\u001b[0m\n\u001b[1;32m---> 45\u001b[1;33m         \u001b[0mpytux\u001b[0m \u001b[1;33m=\u001b[0m \u001b[0mPyTux\u001b[0m\u001b[1;33m(\u001b[0m\u001b[1;33m)\u001b[0m\u001b[1;33m\u001b[0m\u001b[1;33m\u001b[0m\u001b[0m\n\u001b[0m\u001b[0;32m     46\u001b[0m         \u001b[1;32mfor\u001b[0m \u001b[0mt\u001b[0m \u001b[1;32min\u001b[0m \u001b[0mtracks\u001b[0m\u001b[1;33m:\u001b[0m\u001b[1;33m\u001b[0m\u001b[1;33m\u001b[0m\u001b[0m\n\u001b[0;32m     47\u001b[0m             \u001b[0msteps\u001b[0m \u001b[1;33m=\u001b[0m \u001b[0mpytux\u001b[0m\u001b[1;33m.\u001b[0m\u001b[0mrollout\u001b[0m\u001b[1;33m(\u001b[0m\u001b[0mt\u001b[0m\u001b[1;33m,\u001b[0m \u001b[0mcontrol\u001b[0m\u001b[1;33m,\u001b[0m \u001b[0mmax_frames\u001b[0m\u001b[1;33m=\u001b[0m\u001b[1;36m1000\u001b[0m\u001b[1;33m,\u001b[0m \u001b[0mverbose\u001b[0m\u001b[1;33m=\u001b[0m\u001b[1;32mFalse\u001b[0m\u001b[1;33m)\u001b[0m\u001b[1;33m\u001b[0m\u001b[1;33m\u001b[0m\u001b[0m\n",
      "\u001b[1;32m~\\Documents\\dl\\hw6\\homework\\utils.py\u001b[0m in \u001b[0;36m__init__\u001b[1;34m(self, screen_width, screen_height)\u001b[0m\n\u001b[0;32m     50\u001b[0m \u001b[1;33m\u001b[0m\u001b[0m\n\u001b[0;32m     51\u001b[0m     \u001b[1;32mdef\u001b[0m \u001b[0m__init__\u001b[0m\u001b[1;33m(\u001b[0m\u001b[0mself\u001b[0m\u001b[1;33m,\u001b[0m \u001b[0mscreen_width\u001b[0m\u001b[1;33m=\u001b[0m\u001b[1;36m128\u001b[0m\u001b[1;33m,\u001b[0m \u001b[0mscreen_height\u001b[0m\u001b[1;33m=\u001b[0m\u001b[1;36m96\u001b[0m\u001b[1;33m)\u001b[0m\u001b[1;33m:\u001b[0m\u001b[1;33m\u001b[0m\u001b[1;33m\u001b[0m\u001b[0m\n\u001b[1;32m---> 52\u001b[1;33m         \u001b[1;32massert\u001b[0m \u001b[0mPyTux\u001b[0m\u001b[1;33m.\u001b[0m\u001b[0m_singleton\u001b[0m \u001b[1;32mis\u001b[0m \u001b[1;32mNone\u001b[0m\u001b[1;33m,\u001b[0m \u001b[1;34m\"Cannot create more than one pytux object\"\u001b[0m\u001b[1;33m\u001b[0m\u001b[1;33m\u001b[0m\u001b[0m\n\u001b[0m\u001b[0;32m     53\u001b[0m         \u001b[0mPyTux\u001b[0m\u001b[1;33m.\u001b[0m\u001b[0m_singleton\u001b[0m \u001b[1;33m=\u001b[0m \u001b[0mself\u001b[0m\u001b[1;33m\u001b[0m\u001b[1;33m\u001b[0m\u001b[0m\n\u001b[0;32m     54\u001b[0m         \u001b[0mself\u001b[0m\u001b[1;33m.\u001b[0m\u001b[0mconfig\u001b[0m \u001b[1;33m=\u001b[0m \u001b[0mpystk\u001b[0m\u001b[1;33m.\u001b[0m\u001b[0mGraphicsConfig\u001b[0m\u001b[1;33m.\u001b[0m\u001b[0mhd\u001b[0m\u001b[1;33m(\u001b[0m\u001b[1;33m)\u001b[0m\u001b[1;33m\u001b[0m\u001b[1;33m\u001b[0m\u001b[0m\n",
      "\u001b[1;31mAssertionError\u001b[0m: Cannot create more than one pytux object"
     ]
    }
   ],
   "source": [
    "run()"
   ]
  },
  {
   "cell_type": "code",
   "execution_count": 5,
   "metadata": {},
   "outputs": [
    {
     "data": {
      "text/plain": [
       "[438, 453, 543, 540, 691, 612]"
      ]
     },
     "execution_count": 5,
     "metadata": {},
     "output_type": "execute_result"
    }
   ],
   "source": [
    "sa"
   ]
  },
  {
   "cell_type": "code",
   "execution_count": 1,
   "metadata": {},
   "outputs": [
    {
     "name": "stdout",
     "output_type": "stream",
     "text": [
      "Personal  (Build 18362)\n"
     ]
    },
    {
     "name": "stderr",
     "output_type": "stream",
     "text": [
      "C:\\Users\\Owner\\Anaconda37\\lib\\runpy.py:125: RuntimeWarning: 'homework.controller' found in sys.modules after import of package 'homework', but prior to execution of 'homework.controller'; this may result in unpredictable behaviour\n",
      "  warn(RuntimeWarning(msg))\n",
      "Traceback (most recent call last):\n",
      "  File \"C:\\Users\\Owner\\Anaconda37\\lib\\runpy.py\", line 193, in _run_module_as_main\n",
      "    \"__main__\", mod_spec)\n",
      "  File \"C:\\Users\\Owner\\Anaconda37\\lib\\runpy.py\", line 85, in _run_code\n",
      "    exec(code, run_globals)\n",
      "  File \"C:\\Users\\Owner\\Documents\\dl\\hw6\\homework\\controller.py\", line 63, in <module>\n",
      "    test_controller(args)\n",
      "  File \"C:\\Users\\Owner\\Documents\\dl\\hw6\\homework\\controller.py\", line 54, in test_controller\n",
      "    steps = pytux.rollout(t, control, max_frames=1000, verbose=args.verbose)\n",
      "  File \"C:\\Users\\Owner\\Documents\\dl\\hw6\\homework\\utils.py\", line 159, in rollout\n",
      "    action = controller(aim_point_car, current_vel)\n",
      "TypeError: control() missing 1 required positional argument: 'args'\n"
     ]
    }
   ],
   "source": [
    "!python -m homework.controller zengarden lighthouse hacienda snowtuxpeak cornfield_crossing scotland"
   ]
  }
 ],
 "metadata": {
  "accelerator": "GPU",
  "colab": {
   "name": "hw6.ipynb",
   "provenance": [],
   "version": "0.3.2"
  },
  "kernelspec": {
   "display_name": "Python 3",
   "language": "python",
   "name": "python3"
  },
  "language_info": {
   "codemirror_mode": {
    "name": "ipython",
    "version": 3
   },
   "file_extension": ".py",
   "mimetype": "text/x-python",
   "name": "python",
   "nbconvert_exporter": "python",
   "pygments_lexer": "ipython3",
   "version": "3.7.4"
  }
 },
 "nbformat": 4,
 "nbformat_minor": 1
}
